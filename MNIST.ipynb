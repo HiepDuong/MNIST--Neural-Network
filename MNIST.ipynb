{
  "cells": [
    {
      "cell_type": "markdown",
      "metadata": {
        "id": "82MRC1XPz61t"
      },
      "source": [
        "# Introduction\n",
        "\n",
        "In this project, you will build a neural network of your own design to evaluate the MNIST dataset.\n",
        "\n",
        "Some of the benchmark results on MNIST include can be found [on Yann LeCun's page](http://yann.lecun.com/exdb/mnist/) and include:\n",
        "\n",
        "88% [Lecun et al., 1998](http://yann.lecun.com/exdb/publis/pdf/lecun-98.pdf)\n",
        "95.3% [Lecun et al., 1998](http://yann.lecun.com/exdb/publis/pdf/lecun-98.pdf)\n",
        "99.65% [Ciresan et al., 2011](http://people.idsia.ch/~juergen/ijcai2011.pdf)\n",
        "\n",
        "MNIST is a great dataset for sanity checking your models, since the accuracy levels achieved by large convolutional neural networks and small linear models are both quite high. This makes it important to be familiar with the data.\n",
        "\n",
        "## Installation"
      ]
    },
    {
      "cell_type": "code",
      "execution_count": null,
      "metadata": {
        "id": "FoBD1IPpz61w"
      },
      "outputs": [],
      "source": [
        "# Update the PATH to include the user installation directory.\n",
        "import os\n",
        "os.environ['PATH'] = f\"{os.environ['PATH']}:/root/.local/bin\"\n",
        "\n",
        "# Restart the Kernel before you move on to the next step."
      ]
    },
    {
      "cell_type": "markdown",
      "metadata": {
        "id": "QLB4DEHQz61x"
      },
      "source": [
        "#### Important: Restart the Kernel before you move on to the next step."
      ]
    },
    {
      "cell_type": "code",
      "execution_count": null,
      "metadata": {
        "id": "hkLsyPv1z61x",
        "colab": {
          "base_uri": "https://localhost:8080/"
        },
        "outputId": "6b7b6196-9590-4549-d4c9-5e5d68700b8f"
      },
      "outputs": [
        {
          "output_type": "stream",
          "name": "stdout",
          "text": [
            "\u001b[31mERROR: Could not open requirements file: [Errno 2] No such file or directory: 'requirements.txt'\u001b[0m\u001b[31m\n",
            "\u001b[0m"
          ]
        }
      ],
      "source": [
        "# Install requirements\n",
        "!python -m pip install -r requirements.txt"
      ]
    },
    {
      "cell_type": "markdown",
      "metadata": {
        "id": "QhNhM9Ydz61y"
      },
      "source": [
        "## Imports"
      ]
    },
    {
      "cell_type": "code",
      "execution_count": null,
      "metadata": {
        "id": "aM-muW8iz61y"
      },
      "outputs": [],
      "source": [
        "## This cell contains the essential imports you will need – DO NOT CHANGE THE CONTENTS! ##\n",
        "import torch\n",
        "import torch.nn as nn\n",
        "import torch.nn.functional as F\n",
        "import torch.optim as optim\n",
        "import torchvision\n",
        "import torchvision.transforms as transforms\n",
        "import matplotlib.pyplot as plt\n",
        "import numpy as np"
      ]
    },
    {
      "cell_type": "markdown",
      "metadata": {
        "id": "bgRQI60iz61y"
      },
      "source": [
        "## Load the Dataset\n",
        "\n",
        "Specify your transforms as a list if you intend to .\n",
        "The transforms module is already loaded as `transforms`.\n",
        "\n",
        "MNIST is fortunately included in the torchvision module.\n",
        "Then, you can create your dataset using the `MNIST` object from `torchvision.datasets` ([the documentation is available here](https://pytorch.org/vision/stable/datasets.html#mnist)).\n",
        "Make sure to specify `download=True`!\n",
        "\n",
        "Once your dataset is created, you'll also need to define a `DataLoader` from the `torch.utils.data` module for both the train and the test set."
      ]
    },
    {
      "cell_type": "code",
      "execution_count": null,
      "metadata": {
        "id": "mOh6-c-3z61y"
      },
      "outputs": [],
      "source": [
        "from torchvision import datasets\n",
        "from torch.utils.data import DataLoader\n",
        "# Define transforms\n",
        "\n",
        "transform = transforms.Compose([\n",
        "    transforms.ToTensor(),  # Convert PIL image to Tensor\n",
        "    transforms.Normalize((0.5,), (0.5,))\n",
        "])\n",
        "\n",
        "# Create training set and define training dataloader\n",
        "training_data = datasets.MNIST(root =\"data\", train= True, download =True, transform = transform)\n",
        "train_loader = DataLoader(training_data, batch_size= 32, shuffle= True)\n",
        "# Create test set and define test dataloader\n",
        "test_data = datasets.MNIST(root =\"data\", train= False, download =True, transform = transform)\n",
        "test_loader = DataLoader(test_data, batch_size= 32)"
      ]
    },
    {
      "cell_type": "markdown",
      "metadata": {
        "id": "9D9SG560z61z"
      },
      "source": [
        "## Justify your preprocessing\n",
        "\n",
        "In your own words, why did you choose the transforms you chose? If you didn't use any preprocessing steps, why not?"
      ]
    },
    {
      "cell_type": "markdown",
      "metadata": {
        "id": "PBiL-Bfiz61z"
      },
      "source": [
        "I want to to transform into from the input image file to tensor\n",
        "With my transformation using activation Relu since my data is center around [-1, 1]\n",
        "I uyse flatten because we are having a 28x28 input matrix and i want to flatten it to 784 to build feed foward neural network"
      ]
    },
    {
      "cell_type": "markdown",
      "metadata": {
        "id": "G-ju-i4az61z"
      },
      "source": [
        "## Explore the Dataset\n",
        "Using matplotlib, numpy, and torch, explore the dimensions of your data.\n",
        "\n",
        "You can view images using the `show5` function defined below – it takes a data loader as an argument.\n",
        "Remember that normalized images will look really weird to you! You may want to try changing your transforms to view images.\n",
        "Typically using no transforms other than `toTensor()` works well for viewing – but not as well for training your network.\n",
        "If `show5` doesn't work, go back and check your code for creating your data loaders and your training/test sets."
      ]
    },
    {
      "cell_type": "code",
      "execution_count": null,
      "metadata": {
        "id": "ec1QWZqEz61z"
      },
      "outputs": [],
      "source": [
        "## This cell contains a function for showing 5 images from a dataloader – DO NOT CHANGE THE CONTENTS! ##\n",
        "def show5(img_loader):\n",
        "    dataiter = iter(img_loader)\n",
        "\n",
        "    batch = next(dataiter)\n",
        "    labels = batch[1][0:5]\n",
        "    images = batch[0][0:5]\n",
        "    for i in range(5):\n",
        "        print(int(labels[i].detach()))\n",
        "\n",
        "        image = images[i].numpy()\n",
        "        plt.figure(figsize=(1, 1))\n",
        "        plt.imshow(image.T.squeeze().T)\n",
        "        plt.show()"
      ]
    },
    {
      "cell_type": "code",
      "source": [
        "print(f\"Amount of training samples:  + {len(training_data)}\")\n",
        "images, labels = next(iter(train_loader))\n",
        "print(f\"Image shape: {images.shape[1:]}\")"
      ],
      "metadata": {
        "colab": {
          "base_uri": "https://localhost:8080/"
        },
        "id": "VtElEwSMfN__",
        "outputId": "61488365-a65b-4acd-c790-96fbb9e176a8"
      },
      "execution_count": null,
      "outputs": [
        {
          "output_type": "stream",
          "name": "stdout",
          "text": [
            "Amount of training samples:  + 60000\n",
            "Image shape: torch.Size([1, 28, 28])\n"
          ]
        }
      ]
    },
    {
      "cell_type": "code",
      "execution_count": null,
      "metadata": {
        "colab": {
          "base_uri": "https://localhost:8080/",
          "height": 724
        },
        "id": "XHYd5Zjqz61z",
        "outputId": "b40cb98c-964c-4fc7-df12-169d4b9e75f9"
      },
      "outputs": [
        {
          "output_type": "stream",
          "name": "stdout",
          "text": [
            "6\n"
          ]
        },
        {
          "output_type": "display_data",
          "data": {
            "text/plain": [
              "<Figure size 100x100 with 1 Axes>"
            ],
            "image/png": "[encoded data removed]"
          },
          "metadata": {}
        },
        {
          "output_type": "stream",
          "name": "stdout",
          "text": [
            "7\n"
          ]
        },
        {
          "output_type": "display_data",
          "data": {
            "text/plain": [
              "<Figure size 100x100 with 1 Axes>"
            ],
            "image/png": "[encoded data removed]"
          },
          "metadata": {}
        },
        {
          "output_type": "stream",
          "name": "stdout",
          "text": [
            "0\n"
          ]
        },
        {
          "output_type": "display_data",
          "data": {
            "text/plain": [
              "<Figure size 100x100 with 1 Axes>"
            ],
            "image/png": "[encoded data removed]"
          },
          "metadata": {}
        },
        {
          "output_type": "stream",
          "name": "stdout",
          "text": [
            "5\n"
          ]
        },
        {
          "output_type": "display_data",
          "data": {
            "text/plain": [
              "<Figure size 100x100 with 1 Axes>"
            ],
            "image/png": "[encoded data removed]"
          },
          "metadata": {}
        },
        {
          "output_type": "stream",
          "name": "stdout",
          "text": [
            "1\n"
          ]
        },
        {
          "output_type": "display_data",
          "data": {
            "text/plain": [
              "<Figure size 100x100 with 1 Axes>"
            ],
            "image/png": "[encoded data removed]"
          },
          "metadata": {}
        }
      ],
      "source": [
        "# Explore data\n",
        "\n",
        "show5(train_loader)"
      ]
    },
    {
      "cell_type": "markdown",
      "metadata": {
        "id": "AR7C6thjz610"
      },
      "source": [
        "## Build your Neural Network\n",
        "Using the layers in `torch.nn` (which has been imported as `nn`) and the `torch.nn.functional` module (imported as `F`), construct a neural network based on the parameters of the dataset.\n",
        "Use any architecture you like.\n",
        "\n",
        "*Note*: If you did not flatten your tensors in your transforms or as part of your preprocessing and you are using only `Linear` layers, make sure to use the `Flatten` layer in your network!"
      ]
    },
    {
      "cell_type": "code",
      "execution_count": null,
      "metadata": {
        "id": "RuNzVWfgz610"
      },
      "outputs": [],
      "source": [
        "class Net(nn.Module):\n",
        "    def __init__(self):\n",
        "        super().__init__()\n",
        "        self.activation = F.relu\n",
        "        self.layer1 = nn.Linear(28*28,120)\n",
        "        self.layer2 = nn.Linear(120, 84)\n",
        "        self.layer3 = nn.Linear(84, 10)\n",
        "\n",
        "    def forward(self, x):\n",
        "        x = torch.flatten(x, 1) # flatten all dimensions except batch\n",
        "        x = self.activation(self.layer1(x))\n",
        "        x = self.activation(self.layer2(x))\n",
        "        x = self.layer3(x)\n",
        "        return x\n",
        "\n",
        "# Instantiate the model\n",
        "net = Net()"
      ]
    },
    {
      "cell_type": "markdown",
      "metadata": {
        "id": "PfqRVt8Kz610"
      },
      "source": [
        "Specify a loss function and an optimizer, and instantiate the model.\n",
        "\n",
        "If you use a less common loss function, please note why you chose that loss function in a comment."
      ]
    },
    {
      "cell_type": "code",
      "execution_count": null,
      "metadata": {
        "id": "LG2d_Kx8z610"
      },
      "outputs": [],
      "source": [
        "#May use SGD\n",
        "optimizer = optim.Adam(net.parameters(), lr=0.001)\n",
        "# optimizer =optim.SGD(net.parameters(), lr = 0.01, momentum =0.9)\n",
        "\n",
        "criterion = nn.CrossEntropyLoss()"
      ]
    },
    {
      "cell_type": "markdown",
      "metadata": {
        "id": "2P7CA4YKz610"
      },
      "source": [
        "## Running your Neural Network\n",
        "Use whatever method you like to train your neural network, and ensure you record the average loss at each epoch.\n",
        "Don't forget to use `torch.device()` and the `.to()` method for both your model and your data if you are using GPU!\n",
        "\n",
        "If you want to print your loss **during** each epoch, you can use the `enumerate` function and print the loss after a set number of batches. 250 batches works well for most people!"
      ]
    },
    {
      "cell_type": "code",
      "execution_count": null,
      "metadata": {
        "colab": {
          "base_uri": "https://localhost:8080/"
        },
        "id": "YsPb5JBAz611",
        "outputId": "c6f6ad85-8436-4215-ae07-6ab96d3183af"
      },
      "outputs": [
        {
          "output_type": "stream",
          "name": "stdout",
          "text": [
            "Epoch 1 training accuracy: 89.94% training loss: 0.32915\n",
            "Epoch 1 validation accuracy: 93.81% validation loss: 0.19532\n",
            "Epoch 2 training accuracy: 95.06% training loss: 0.15915\n",
            "Epoch 2 validation accuracy: 94.42% validation loss: 0.17663\n",
            "Epoch 3 training accuracy: 96.22% training loss: 0.12357\n",
            "Epoch 3 validation accuracy: 96.11% validation loss: 0.12711\n",
            "Epoch 4 training accuracy: 96.83% training loss: 0.10100\n",
            "Epoch 4 validation accuracy: 96.06% validation loss: 0.13214\n",
            "Epoch 5 training accuracy: 97.20% training loss: 0.08868\n",
            "Epoch 5 validation accuracy: 96.53% validation loss: 0.10889\n",
            "Epoch 6 training accuracy: 97.52% training loss: 0.07788\n",
            "Epoch 6 validation accuracy: 97.14% validation loss: 0.10003\n",
            "Epoch 7 training accuracy: 97.71% training loss: 0.07024\n",
            "Epoch 7 validation accuracy: 96.96% validation loss: 0.10116\n",
            "Epoch 8 training accuracy: 98.02% training loss: 0.06242\n",
            "Epoch 8 validation accuracy: 97.27% validation loss: 0.09666\n",
            "Epoch 9 training accuracy: 98.04% training loss: 0.06033\n",
            "Epoch 9 validation accuracy: 97.36% validation loss: 0.09255\n",
            "Epoch 10 training accuracy: 98.27% training loss: 0.05360\n",
            "Epoch 10 validation accuracy: 96.89% validation loss: 0.11360\n",
            "Epoch 11 training accuracy: 98.42% training loss: 0.04740\n",
            "Epoch 11 validation accuracy: 97.19% validation loss: 0.09810\n",
            "Epoch 12 training accuracy: 98.50% training loss: 0.04502\n",
            "Epoch 12 validation accuracy: 97.17% validation loss: 0.10460\n",
            "Epoch 13 training accuracy: 98.53% training loss: 0.04545\n",
            "Epoch 13 validation accuracy: 97.25% validation loss: 0.10446\n",
            "Epoch 14 training accuracy: 98.62% training loss: 0.04135\n",
            "Epoch 14 validation accuracy: 97.40% validation loss: 0.10686\n",
            "Epoch 15 training accuracy: 98.68% training loss: 0.03912\n",
            "Epoch 15 validation accuracy: 97.51% validation loss: 0.09582\n",
            "Epoch 16 training accuracy: 98.73% training loss: 0.03890\n",
            "Epoch 16 validation accuracy: 97.09% validation loss: 0.11034\n",
            "Epoch 17 training accuracy: 98.86% training loss: 0.03511\n",
            "Epoch 17 validation accuracy: 97.40% validation loss: 0.10285\n",
            "Epoch 18 training accuracy: 98.87% training loss: 0.03216\n",
            "Epoch 18 validation accuracy: 97.00% validation loss: 0.14406\n",
            "Epoch 19 training accuracy: 98.95% training loss: 0.03166\n",
            "Epoch 19 validation accuracy: 97.40% validation loss: 0.12191\n",
            "Epoch 20 training accuracy: 99.01% training loss: 0.03019\n",
            "Epoch 20 validation accuracy: 97.69% validation loss: 0.10573\n"
          ]
        }
      ],
      "source": [
        "num_epochs = 20\n",
        "\n",
        "best_val_loss = float('inf')\n",
        "\n",
        "# Establish a list for our history\n",
        "train_loss_history = list()\n",
        "val_loss_history = list()\n",
        "train_acc_history = list()\n",
        "val_acc_history = list()\n",
        "\n",
        "for epoch in range(num_epochs):\n",
        "    net.train()\n",
        "    train_loss = 0.0\n",
        "    train_correct = 0\n",
        "    for i, data in enumerate(train_loader):\n",
        "        # data is a list of [inputs, labels]\n",
        "        inputs, labels = data\n",
        "\n",
        "        # Pass to GPU if available\n",
        "        if torch.cuda.is_available():\n",
        "            inputs, labels = inputs.cuda(), labels.cuda()\n",
        "\n",
        "        # Zero the gradients of the optimizer\n",
        "        optimizer.zero_grad()\n",
        "\n",
        "        # Get the outputs of the model and compute the loss\n",
        "        outputs = net(inputs)\n",
        "        loss = criterion(outputs, labels)\n",
        "\n",
        "        # Backpropagate the loss and perform optimization\n",
        "        loss.backward()\n",
        "        optimizer.step()\n",
        "\n",
        "        # Compute the accuracy\n",
        "        _, preds = torch.max(outputs.data, 1)\n",
        "        train_correct += (preds == labels).sum().item()\n",
        "        train_loss += loss.item()\n",
        "\n",
        "    print(f'Epoch {epoch + 1} training accuracy: {100 * train_correct/len(training_data):.2f}% training loss: {train_loss/len(train_loader):.5f}')\n",
        "\n",
        "    train_loss_history.append(train_loss/len(train_loader))\n",
        "    train_acc_history.append(100 * train_correct/len(training_data))\n",
        "\n",
        "    # Validation\n",
        "    val_loss = 0.0\n",
        "    val_correct = 0\n",
        "    net.eval()\n",
        "    for inputs, labels in test_loader:  # Renamed to val_loader for clarity\n",
        "        if torch.cuda.is_available():\n",
        "            inputs, labels = inputs.cuda(), labels.cuda()\n",
        "\n",
        "        outputs = net(inputs)\n",
        "        loss = criterion(outputs, labels)\n",
        "\n",
        "        _, preds = torch.max(outputs.data, 1)\n",
        "        val_correct += (preds == labels).sum().item()\n",
        "        val_loss += loss.item()\n",
        "\n",
        "    print(f'Epoch {epoch + 1} validation accuracy: {100 * val_correct/len(test_data):.2f}% validation loss: {val_loss/len(test_loader):.5f}')  # Assuming val_data is defined somewhere in your code\n",
        "\n",
        "    val_loss_history.append(val_loss/len(test_loader))\n",
        "    val_acc_history.append(100 * val_correct/len(test_data))"
      ]
    },
    {
      "cell_type": "markdown",
      "metadata": {
        "id": "bB3DaQwIz611"
      },
      "source": [
        "Plot the training loss (and validation loss/accuracy, if recorded)."
      ]
    },
    {
      "cell_type": "code",
      "execution_count": null,
      "metadata": {
        "colab": {
          "base_uri": "https://localhost:8080/",
          "height": 487
        },
        "id": "HFptddFxz611",
        "outputId": "9477f0c6-f76e-4a98-bc8b-ca590331854d"
      },
      "outputs": [
        {
          "output_type": "stream",
          "name": "stderr",
          "text": [
            "<ipython-input-11-cfa2ade5b87d>:3: MatplotlibDeprecationWarning: Auto-removal of overlapping axes is deprecated since 3.6 and will be removed two minor releases later; explicitly call ax.remove() as needed.\n",
            "  plt.subplot(1,2,1)\n"
          ]
        },
        {
          "output_type": "display_data",
          "data": {
            "text/plain": [
              "<Figure size 640x480 with 2 Axes>"
            ],
            "image/png": "[encoded data removed]"
          },
          "metadata": {}
        }
      ],
      "source": [
        "# Plot the training and validation loss history\n",
        "fig, ax1 = plt.subplots()\n",
        "plt.subplot(1,2,1)\n",
        "plt.plot(train_loss_history, label=\"Training Loss\")\n",
        "plt.plot(val_loss_history, label=\"Validation Loss\")\n",
        "plt.legend()\n",
        "\n",
        "plt.subplot(1,2,2)\n",
        "plt.plot(val_acc_history, label=\"Validation Acc\")\n",
        "\n",
        "plt.legend()\n",
        "plt.show()"
      ]
    },
    {
      "cell_type": "markdown",
      "metadata": {
        "id": "P2NCX4ezz611"
      },
      "source": [
        "## Testing your model\n",
        "Using the previously created `DataLoader` for the test set, compute the percentage of correct predictions using the highest probability prediction.\n",
        "\n",
        "If your accuracy is over 90%, great work, but see if you can push a bit further!\n",
        "If your accuracy is under 90%, you'll need to make improvements.\n",
        "Go back and check your model architecture, loss function, and optimizer to make sure they're appropriate for an image classification task."
      ]
    },
    {
      "cell_type": "code",
      "execution_count": null,
      "metadata": {
        "colab": {
          "base_uri": "https://localhost:8080/"
        },
        "id": "bH5sHGvIz611",
        "outputId": "af535707-0d7b-41b5-c5c2-86c5bc34d911"
      },
      "outputs": [
        {
          "output_type": "stream",
          "name": "stdout",
          "text": [
            "Accuracy of the network on test images: 97.30%\n"
          ]
        }
      ],
      "source": [
        "net.eval()\n",
        "correct = 0\n",
        "total = 0\n",
        "\n",
        "with torch.no_grad():  # Deactivate gradients for the following code\n",
        "    for data in test_loader:\n",
        "        images, labels = data\n",
        "\n",
        "        # Forward pass\n",
        "        outputs = net(images)\n",
        "\n",
        "        # Get predictions from the maximum value\n",
        "        _, predicted = torch.max(outputs.data, 1)\n",
        "\n",
        "        total += labels.size(0)  # Increment the total count\n",
        "        correct += (predicted == labels).sum().item()  # Increment correct count\n",
        "\n",
        "# Calculate the accuracy\n",
        "accuracy = 100 * correct / total\n",
        "print(f'Accuracy of the network on test images: {accuracy:.2f}%')"
      ]
    },
    {
      "cell_type": "markdown",
      "metadata": {
        "id": "qlUSPfXbz611"
      },
      "source": [
        "## Improving your model\n",
        "\n",
        "Once your model is done training, try tweaking your hyperparameters and training again below to improve your accuracy on the test set!"
      ]
    },
    {
      "cell_type": "code",
      "execution_count": null,
      "metadata": {
        "id": "YeOb_DtGJSz9"
      },
      "outputs": [],
      "source": [
        "class Net(nn.Module):\n",
        "    def __init__(self):\n",
        "        super().__init__()\n",
        "        self.activation = F.relu\n",
        "        self.layer1 = nn.Linear(28*28,400)\n",
        "        self.dropout1 = nn.Dropout(0.25)\n",
        "        self.layer2 = nn.Linear(400, 205)\n",
        "        self.dropout2 = nn.Dropout(0.25)\n",
        "        self.layer3 = nn.Linear(205, 10)\n",
        "\n",
        "    def forward(self, x):\n",
        "        x = torch.flatten(x, 1) # flatten all dimensions except batch\n",
        "        x = self.activation(self.layer1(x))\n",
        "        x = self.dropout1(x)\n",
        "        x = self.activation(self.layer2(x))\n",
        "        x = self.dropout2(x)\n",
        "        x = self.layer3(x)\n",
        "        return x\n",
        "\n",
        "# Instantiate the model\n",
        "net = Net()"
      ]
    },
    {
      "cell_type": "code",
      "execution_count": null,
      "metadata": {
        "id": "7vYWQTZ6Ig2t",
        "colab": {
          "base_uri": "https://localhost:8080/"
        },
        "outputId": "4370e9b9-895b-4c55-e9c9-e0fe20c4a9f6"
      },
      "outputs": [
        {
          "output_type": "execute_result",
          "data": {
            "text/plain": [
              "Net(\n",
              "  (layer1): Linear(in_features=784, out_features=400, bias=True)\n",
              "  (dropout1): Dropout(p=0.25, inplace=False)\n",
              "  (layer2): Linear(in_features=400, out_features=205, bias=True)\n",
              "  (dropout2): Dropout(p=0.25, inplace=False)\n",
              "  (layer3): Linear(in_features=205, out_features=10, bias=True)\n",
              ")"
            ]
          },
          "metadata": {},
          "execution_count": 45
        }
      ],
      "source": [
        "optimizer = optim.Adam(net.parameters(), lr=0.00025)\n",
        "# optimizer =optim.SGD(net.parameters(), lr = 0.01, momentum =0.9)\n",
        "\n",
        "criterion = nn.CrossEntropyLoss()\n",
        "\n",
        "train_loader = DataLoader(training_data, batch_size= 256, shuffle= True)\n",
        "device = torch.device('cuda' if torch.cuda.is_available() else 'cpu')\n",
        "net.to(device)\n"
      ]
    },
    {
      "cell_type": "code",
      "execution_count": null,
      "metadata": {
        "id": "_TuMysntz611",
        "colab": {
          "base_uri": "https://localhost:8080/"
        },
        "outputId": "2c2ed4d1-7dd6-4b00-dbdd-8e4c2474f387"
      },
      "outputs": [
        {
          "output_type": "stream",
          "name": "stdout",
          "text": [
            "Epoch 1 training accuracy: 78.75% training loss: 0.73739\n",
            "Epoch 1 validation accuracy: 91.03% validation loss: 0.31358\n",
            "Epoch 2 training accuracy: 90.29% training loss: 0.32802\n",
            "Epoch 2 validation accuracy: 92.89% validation loss: 0.23508\n",
            "Epoch 3 training accuracy: 92.53% training loss: 0.25241\n",
            "Epoch 3 validation accuracy: 94.51% validation loss: 0.18300\n",
            "Epoch 4 training accuracy: 93.88% training loss: 0.20633\n",
            "Epoch 4 validation accuracy: 95.27% validation loss: 0.15615\n",
            "Epoch 5 training accuracy: 94.69% training loss: 0.17643\n",
            "Epoch 5 validation accuracy: 95.92% validation loss: 0.13308\n",
            "Epoch 6 training accuracy: 95.39% training loss: 0.15359\n",
            "Epoch 6 validation accuracy: 96.40% validation loss: 0.11580\n",
            "Epoch 7 training accuracy: 96.08% training loss: 0.13453\n",
            "Epoch 7 validation accuracy: 96.54% validation loss: 0.11241\n",
            "Epoch 8 training accuracy: 96.39% training loss: 0.11899\n",
            "Epoch 8 validation accuracy: 96.95% validation loss: 0.09714\n",
            "Epoch 9 training accuracy: 96.72% training loss: 0.11075\n",
            "Epoch 9 validation accuracy: 96.98% validation loss: 0.09514\n",
            "Epoch 10 training accuracy: 97.03% training loss: 0.10019\n",
            "Epoch 10 validation accuracy: 97.25% validation loss: 0.08763\n",
            "Epoch 11 training accuracy: 97.29% training loss: 0.09234\n",
            "Epoch 11 validation accuracy: 97.35% validation loss: 0.08806\n",
            "Epoch 12 training accuracy: 97.39% training loss: 0.08554\n",
            "Epoch 12 validation accuracy: 97.47% validation loss: 0.08007\n",
            "Epoch 13 training accuracy: 97.56% training loss: 0.07989\n",
            "Epoch 13 validation accuracy: 97.75% validation loss: 0.07207\n",
            "Epoch 14 training accuracy: 97.69% training loss: 0.07686\n",
            "Epoch 14 validation accuracy: 97.71% validation loss: 0.07306\n",
            "Epoch 15 training accuracy: 97.81% training loss: 0.07139\n",
            "Epoch 15 validation accuracy: 97.76% validation loss: 0.07067\n",
            "Epoch 16 training accuracy: 97.96% training loss: 0.06669\n",
            "Epoch 16 validation accuracy: 97.86% validation loss: 0.06752\n",
            "Epoch 17 training accuracy: 98.06% training loss: 0.06274\n",
            "Epoch 17 validation accuracy: 97.76% validation loss: 0.07086\n",
            "Epoch 18 training accuracy: 98.13% training loss: 0.05979\n",
            "Epoch 18 validation accuracy: 98.02% validation loss: 0.06233\n",
            "Epoch 19 training accuracy: 98.19% training loss: 0.05760\n",
            "Epoch 19 validation accuracy: 97.99% validation loss: 0.06193\n",
            "Epoch 20 training accuracy: 98.30% training loss: 0.05456\n",
            "Epoch 20 validation accuracy: 97.79% validation loss: 0.06914\n",
            "Epoch 21 training accuracy: 98.34% training loss: 0.05230\n",
            "Epoch 21 validation accuracy: 98.00% validation loss: 0.06229\n",
            "Epoch 22 training accuracy: 98.56% training loss: 0.04659\n",
            "Epoch 22 validation accuracy: 98.00% validation loss: 0.06185\n",
            "Epoch 23 training accuracy: 98.60% training loss: 0.04462\n",
            "Epoch 23 validation accuracy: 97.88% validation loss: 0.06817\n",
            "Epoch 24 training accuracy: 98.61% training loss: 0.04389\n",
            "Epoch 24 validation accuracy: 97.95% validation loss: 0.06500\n",
            "Epoch 25 training accuracy: 98.70% training loss: 0.04217\n",
            "Epoch 25 validation accuracy: 98.03% validation loss: 0.06349\n",
            "Epoch 26 training accuracy: 98.61% training loss: 0.04325\n",
            "Epoch 26 validation accuracy: 98.11% validation loss: 0.06095\n",
            "Epoch 27 training accuracy: 98.76% training loss: 0.03834\n",
            "Epoch 27 validation accuracy: 97.96% validation loss: 0.06542\n",
            "Epoch 28 training accuracy: 98.80% training loss: 0.03770\n",
            "Epoch 28 validation accuracy: 98.01% validation loss: 0.06531\n",
            "Epoch 29 training accuracy: 98.81% training loss: 0.03653\n",
            "Epoch 29 validation accuracy: 98.15% validation loss: 0.05792\n",
            "Epoch 30 training accuracy: 98.77% training loss: 0.03805\n",
            "Epoch 30 validation accuracy: 98.13% validation loss: 0.06047\n",
            "Epoch 31 training accuracy: 98.86% training loss: 0.03437\n",
            "Epoch 31 validation accuracy: 98.19% validation loss: 0.05888\n",
            "Epoch 32 training accuracy: 98.90% training loss: 0.03320\n",
            "Epoch 32 validation accuracy: 98.05% validation loss: 0.06330\n",
            "Epoch 33 training accuracy: 99.00% training loss: 0.03043\n",
            "Epoch 33 validation accuracy: 98.18% validation loss: 0.06278\n",
            "Epoch 34 training accuracy: 98.98% training loss: 0.03104\n",
            "Epoch 34 validation accuracy: 98.14% validation loss: 0.05987\n",
            "Early stopping!\n"
          ]
        }
      ],
      "source": [
        "num_epochs = 40\n",
        "patience = 5\n",
        "best_val_loss = float('inf')\n",
        "\n",
        "# Establish a list for our history\n",
        "train_loss_history = list()\n",
        "val_loss_history = list()\n",
        "train_acc_history = list()\n",
        "val_acc_history = list()\n",
        "\n",
        "for epoch in range(num_epochs):\n",
        "    net.train()\n",
        "    train_loss = 0.0\n",
        "    train_correct = 0\n",
        "    for i, data in enumerate(train_loader):\n",
        "        # data is a list of [inputs, labels]\n",
        "        inputs, labels = data\n",
        "\n",
        "        # Pass to GPU if available\n",
        "        if torch.cuda.is_available():\n",
        "            inputs, labels = inputs.cuda(), labels.cuda()\n",
        "\n",
        "        # Zero the gradients of the optimizer\n",
        "        optimizer.zero_grad()\n",
        "\n",
        "        # Get the outputs of the model and compute the loss\n",
        "        outputs = net(inputs)\n",
        "        loss = criterion(outputs, labels)\n",
        "\n",
        "        # Backpropagate the loss and perform optimization\n",
        "        loss.backward()\n",
        "        optimizer.step()\n",
        "\n",
        "        # Compute the accuracy\n",
        "        _, preds = torch.max(outputs.data, 1)\n",
        "        train_correct += (preds == labels).sum().item()\n",
        "        train_loss += loss.item()\n",
        "\n",
        "    print(f'Epoch {epoch + 1} training accuracy: {100 * train_correct/len(training_data):.2f}% training loss: {train_loss/len(train_loader):.5f}')\n",
        "\n",
        "    train_loss_history.append(train_loss/len(train_loader))\n",
        "    train_acc_history.append(100 * train_correct/len(training_data))\n",
        "\n",
        "    # Validation\n",
        "    val_loss = 0.0\n",
        "    val_correct = 0\n",
        "    net.eval()\n",
        "    for inputs, labels in test_loader:  # Renamed to val_loader for clarity\n",
        "        if torch.cuda.is_available():\n",
        "            inputs, labels = inputs.cuda(), labels.cuda()\n",
        "\n",
        "        outputs = net(inputs)\n",
        "        loss = criterion(outputs, labels)\n",
        "\n",
        "        _, preds = torch.max(outputs.data, 1)\n",
        "        val_correct += (preds == labels).sum().item()\n",
        "        val_loss += loss.item()\n",
        "\n",
        "    print(f'Epoch {epoch + 1} validation accuracy: {100 * val_correct/len(test_data):.2f}% validation loss: {val_loss/len(test_loader):.5f}')  # Assuming val_data is defined somewhere in your code\n",
        "\n",
        "    val_loss_history.append(val_loss/len(test_loader))\n",
        "    val_acc_history.append(100 * val_correct/len(test_data))\n",
        "\n",
        "    # Save the best model based on validation loss\n",
        "    if val_loss < best_val_loss:\n",
        "        best_val_loss = val_loss\n",
        "        no_improve_epochs = 0\n",
        "        torch.save(net.state_dict(), 'best_model.pth')\n",
        "    else:\n",
        "        no_improve_epochs += 1\n",
        "\n",
        "    # Early stopping\n",
        "    if no_improve_epochs >= patience:\n",
        "        print(\"Early stopping!\")\n",
        "        break\n",
        "\n",
        "\n"
      ]
    },
    {
      "cell_type": "code",
      "execution_count": null,
      "metadata": {
        "colab": {
          "base_uri": "https://localhost:8080/",
          "height": 485
        },
        "id": "hUEyVXX3N2Y3",
        "outputId": "3c6bb40e-8288-44cd-ddd3-ea6efc4bd80c"
      },
      "outputs": [
        {
          "output_type": "stream",
          "name": "stderr",
          "text": [
            "<ipython-input-47-cfa2ade5b87d>:3: MatplotlibDeprecationWarning: Auto-removal of overlapping axes is deprecated since 3.6 and will be removed two minor releases later; explicitly call ax.remove() as needed.\n",
            "  plt.subplot(1,2,1)\n"
          ]
        },
        {
          "output_type": "display_data",
          "data": {
            "text/plain": [
              "<Figure size 640x480 with 2 Axes>"
            ],
            "image/png": "[encoded data removed]"
          },
          "metadata": {}
        }
      ],
      "source": [
        "# Plot the training and validation loss history\n",
        "fig, ax1 = plt.subplots()\n",
        "plt.subplot(1,2,1)\n",
        "plt.plot(train_loss_history, label=\"Training Loss\")\n",
        "plt.plot(val_loss_history, label=\"Validation Loss\")\n",
        "plt.legend()\n",
        "\n",
        "plt.subplot(1,2,2)\n",
        "plt.plot(val_acc_history, label=\"Validation Acc\")\n",
        "\n",
        "plt.legend()\n",
        "plt.show()"
      ]
    },
    {
      "cell_type": "code",
      "execution_count": null,
      "metadata": {
        "colab": {
          "base_uri": "https://localhost:8080/"
        },
        "id": "dQF9Lq3fPbGJ",
        "outputId": "525d9a9f-c5cb-4519-91ee-f6dc882efccd"
      },
      "outputs": [
        {
          "output_type": "stream",
          "name": "stdout",
          "text": [
            "Accuracy of the network on test images: 98.15%\n",
            "Diference in Accuracy of the network on test images: 0.85%\n"
          ]
        }
      ],
      "source": [
        "net.load_state_dict(torch.load('best_model.pth'))\n",
        "net.eval()\n",
        "correct = 0\n",
        "total = 0\n",
        "\n",
        "with torch.no_grad():  # Deactivate gradients for the following code\n",
        "    for data in test_loader:\n",
        "        images, labels = data\n",
        "\n",
        "        # Forward pass\n",
        "        outputs = net(images)\n",
        "\n",
        "        # Get predictions from the maximum value\n",
        "        _, predicted = torch.max(outputs.data, 1)\n",
        "\n",
        "        total += labels.size(0)  # Increment the total count\n",
        "        correct += (predicted == labels).sum().item()  # Increment correct count\n",
        "\n",
        "# Calculate the accuracy\n",
        "new_accuracy = 100 * correct / total\n",
        "print(f'Accuracy of the network on test images: {new_accuracy:.2f}%')\n",
        "dif = new_accuracy - accuracy\n",
        "print(f'Diference in Accuracy of the network on test images: {dif:.2f}%')"
      ]
    },
    {
      "cell_type": "markdown",
      "metadata": {
        "id": "kxgAtEc-z611"
      },
      "source": [
        "## Saving your model\n",
        "Using `torch.save`, save your model for future loading."
      ]
    },
    {
      "cell_type": "code",
      "execution_count": null,
      "metadata": {
        "id": "dWfF345zz611"
      },
      "outputs": [],
      "source": [
        "torch.save(net.state_dict(), 'best_model.pth')"
      ]
    }
  ],
  "metadata": {
    "colab": {
      "provenance": [],
      "toc_visible": true
    },
    "kernelspec": {
      "display_name": "Python 3",
      "name": "python3"
    },
    "language_info": {
      "codemirror_mode": {
        "name": "ipython",
        "version": 3
      },
      "file_extension": ".py",
      "mimetype": "text/x-python",
      "name": "python",
      "nbconvert_exporter": "python",
      "pygments_lexer": "ipython3",
      "version": "3.11.4"
    },
    "accelerator": "TPU"
  },
  "nbformat": 4,
  "nbformat_minor": 0
}